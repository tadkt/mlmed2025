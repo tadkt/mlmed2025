{
 "cells": [
  {
   "cell_type": "markdown",
   "id": "1cc49c8c",
   "metadata": {
    "papermill": {
     "duration": 0.008967,
     "end_time": "2025-02-28T12:26:09.840688",
     "exception": false,
     "start_time": "2025-02-28T12:26:09.831721",
     "status": "completed"
    },
    "tags": []
   },
   "source": [
    "## Import library"
   ]
  },
  {
   "cell_type": "code",
   "execution_count": 1,
   "id": "04983d3a",
   "metadata": {
    "_cell_guid": "b1076dfc-b9ad-4769-8c92-a6c4dae69d19",
    "_uuid": "8f2839f25d086af736a60e9eeb907d3b93b6e0e5",
    "execution": {
     "iopub.execute_input": "2025-02-28T12:26:09.858778Z",
     "iopub.status.busy": "2025-02-28T12:26:09.858437Z",
     "iopub.status.idle": "2025-02-28T12:26:15.639899Z",
     "shell.execute_reply": "2025-02-28T12:26:15.639154Z"
    },
    "papermill": {
     "duration": 5.792274,
     "end_time": "2025-02-28T12:26:15.641567",
     "exception": false,
     "start_time": "2025-02-28T12:26:09.849293",
     "status": "completed"
    },
    "tags": []
   },
   "outputs": [],
   "source": [
    "import pandas as pd\n",
    "import matplotlib.pyplot as plt\n",
    "import seaborn as sns\n",
    "import torch\n",
    "import torch.optim as optim\n",
    "import torch.nn as nn\n",
    "import torch.optim.lr_scheduler as lr_scheduler\n",
    "import time\n",
    "import numpy as np\n",
    "from torch.utils.data import DataLoader, TensorDataset, WeightedRandomSampler\n",
    "from sklearn.preprocessing import MinMaxScaler\n",
    "from sklearn.model_selection import train_test_split\n"
   ]
  },
  {
   "cell_type": "markdown",
   "id": "3c25b4da",
   "metadata": {
    "papermill": {
     "duration": 0.007807,
     "end_time": "2025-02-28T12:26:15.657909",
     "exception": false,
     "start_time": "2025-02-28T12:26:15.650102",
     "status": "completed"
    },
    "tags": []
   },
   "source": [
    "# Arrhythmia Dataset"
   ]
  },
  {
   "cell_type": "code",
   "execution_count": 2,
   "id": "5e781fed",
   "metadata": {
    "execution": {
     "iopub.execute_input": "2025-02-28T12:26:15.674715Z",
     "iopub.status.busy": "2025-02-28T12:26:15.674332Z",
     "iopub.status.idle": "2025-02-28T12:26:15.687761Z",
     "shell.execute_reply": "2025-02-28T12:26:15.687018Z"
    },
    "papermill": {
     "duration": 0.023009,
     "end_time": "2025-02-28T12:26:15.689078",
     "exception": false,
     "start_time": "2025-02-28T12:26:15.666069",
     "status": "completed"
    },
    "tags": []
   },
   "outputs": [
    {
     "name": "stdout",
     "output_type": "stream",
     "text": [
      "['ptbdb_abnormal.csv', 'ptbdb_normal.csv', 'mitbih_test.csv', 'mitbih_train.csv']\n"
     ]
    }
   ],
   "source": [
    "import os\n",
    "print(os.listdir(\"../input\"))"
   ]
  },
  {
   "cell_type": "markdown",
   "id": "56aec5f9",
   "metadata": {
    "papermill": {
     "duration": 0.008047,
     "end_time": "2025-02-28T12:26:15.705363",
     "exception": false,
     "start_time": "2025-02-28T12:26:15.697316",
     "status": "completed"
    },
    "tags": []
   },
   "source": [
    "## Load data & explore"
   ]
  },
  {
   "cell_type": "code",
   "execution_count": 3,
   "id": "d6310257",
   "metadata": {
    "execution": {
     "iopub.execute_input": "2025-02-28T12:26:15.722458Z",
     "iopub.status.busy": "2025-02-28T12:26:15.722182Z",
     "iopub.status.idle": "2025-02-28T12:26:24.890355Z",
     "shell.execute_reply": "2025-02-28T12:26:24.889335Z"
    },
    "papermill": {
     "duration": 9.1787,
     "end_time": "2025-02-28T12:26:24.892140",
     "exception": false,
     "start_time": "2025-02-28T12:26:15.713440",
     "status": "completed"
    },
    "tags": []
   },
   "outputs": [],
   "source": [
    "train_data = pd.read_csv(\"/kaggle/input/mitbih_train.csv\")\n",
    "test_data = pd.read_csv(\"/kaggle/input/mitbih_test.csv\")"
   ]
  },
  {
   "cell_type": "code",
   "execution_count": 4,
   "id": "8493f5d2",
   "metadata": {
    "execution": {
     "iopub.execute_input": "2025-02-28T12:26:24.910366Z",
     "iopub.status.busy": "2025-02-28T12:26:24.910052Z",
     "iopub.status.idle": "2025-02-28T12:26:24.914447Z",
     "shell.execute_reply": "2025-02-28T12:26:24.913560Z"
    },
    "papermill": {
     "duration": 0.014883,
     "end_time": "2025-02-28T12:26:24.915784",
     "exception": false,
     "start_time": "2025-02-28T12:26:24.900901",
     "status": "completed"
    },
    "tags": []
   },
   "outputs": [
    {
     "name": "stdout",
     "output_type": "stream",
     "text": [
      "Number of samples in train data: 87553\n",
      "Number of samples in test data: 21891\n"
     ]
    }
   ],
   "source": [
    "print(f\"Number of samples in train data: {train_data.shape[0]}\")\n",
    "print(f\"Number of samples in test data: {test_data.shape[0]}\")"
   ]
  },
  {
   "cell_type": "code",
   "execution_count": 5,
   "id": "4d26648d",
   "metadata": {
    "execution": {
     "iopub.execute_input": "2025-02-28T12:26:24.932968Z",
     "iopub.status.busy": "2025-02-28T12:26:24.932707Z",
     "iopub.status.idle": "2025-02-28T12:26:24.968588Z",
     "shell.execute_reply": "2025-02-28T12:26:24.967828Z"
    },
    "papermill": {
     "duration": 0.045679,
     "end_time": "2025-02-28T12:26:24.969799",
     "exception": false,
     "start_time": "2025-02-28T12:26:24.924120",
     "status": "completed"
    },
    "tags": []
   },
   "outputs": [
    {
     "data": {
      "text/html": [
       "<div>\n",
       "<style scoped>\n",
       "    .dataframe tbody tr th:only-of-type {\n",
       "        vertical-align: middle;\n",
       "    }\n",
       "\n",
       "    .dataframe tbody tr th {\n",
       "        vertical-align: top;\n",
       "    }\n",
       "\n",
       "    .dataframe thead th {\n",
       "        text-align: right;\n",
       "    }\n",
       "</style>\n",
       "<table border=\"1\" class=\"dataframe\">\n",
       "  <thead>\n",
       "    <tr style=\"text-align: right;\">\n",
       "      <th></th>\n",
       "      <th>9.779411554336547852e-01</th>\n",
       "      <th>9.264705777168273926e-01</th>\n",
       "      <th>6.813725233078002930e-01</th>\n",
       "      <th>2.450980395078659058e-01</th>\n",
       "      <th>1.544117629528045654e-01</th>\n",
       "      <th>1.911764740943908691e-01</th>\n",
       "      <th>1.519607901573181152e-01</th>\n",
       "      <th>8.578431606292724609e-02</th>\n",
       "      <th>5.882352963089942932e-02</th>\n",
       "      <th>4.901960864663124084e-02</th>\n",
       "      <th>...</th>\n",
       "      <th>0.000000000000000000e+00.79</th>\n",
       "      <th>0.000000000000000000e+00.80</th>\n",
       "      <th>0.000000000000000000e+00.81</th>\n",
       "      <th>0.000000000000000000e+00.82</th>\n",
       "      <th>0.000000000000000000e+00.83</th>\n",
       "      <th>0.000000000000000000e+00.84</th>\n",
       "      <th>0.000000000000000000e+00.85</th>\n",
       "      <th>0.000000000000000000e+00.86</th>\n",
       "      <th>0.000000000000000000e+00.87</th>\n",
       "      <th>0.000000000000000000e+00.88</th>\n",
       "    </tr>\n",
       "  </thead>\n",
       "  <tbody>\n",
       "    <tr>\n",
       "      <th>0</th>\n",
       "      <td>0.960114</td>\n",
       "      <td>0.863248</td>\n",
       "      <td>0.461538</td>\n",
       "      <td>0.196581</td>\n",
       "      <td>0.094017</td>\n",
       "      <td>0.125356</td>\n",
       "      <td>0.099715</td>\n",
       "      <td>0.088319</td>\n",
       "      <td>0.074074</td>\n",
       "      <td>0.082621</td>\n",
       "      <td>...</td>\n",
       "      <td>0.0</td>\n",
       "      <td>0.0</td>\n",
       "      <td>0.0</td>\n",
       "      <td>0.0</td>\n",
       "      <td>0.0</td>\n",
       "      <td>0.0</td>\n",
       "      <td>0.0</td>\n",
       "      <td>0.0</td>\n",
       "      <td>0.0</td>\n",
       "      <td>0.0</td>\n",
       "    </tr>\n",
       "    <tr>\n",
       "      <th>1</th>\n",
       "      <td>1.000000</td>\n",
       "      <td>0.659459</td>\n",
       "      <td>0.186486</td>\n",
       "      <td>0.070270</td>\n",
       "      <td>0.070270</td>\n",
       "      <td>0.059459</td>\n",
       "      <td>0.056757</td>\n",
       "      <td>0.043243</td>\n",
       "      <td>0.054054</td>\n",
       "      <td>0.045946</td>\n",
       "      <td>...</td>\n",
       "      <td>0.0</td>\n",
       "      <td>0.0</td>\n",
       "      <td>0.0</td>\n",
       "      <td>0.0</td>\n",
       "      <td>0.0</td>\n",
       "      <td>0.0</td>\n",
       "      <td>0.0</td>\n",
       "      <td>0.0</td>\n",
       "      <td>0.0</td>\n",
       "      <td>0.0</td>\n",
       "    </tr>\n",
       "    <tr>\n",
       "      <th>2</th>\n",
       "      <td>0.925414</td>\n",
       "      <td>0.665746</td>\n",
       "      <td>0.541436</td>\n",
       "      <td>0.276243</td>\n",
       "      <td>0.196133</td>\n",
       "      <td>0.077348</td>\n",
       "      <td>0.071823</td>\n",
       "      <td>0.060773</td>\n",
       "      <td>0.066298</td>\n",
       "      <td>0.058011</td>\n",
       "      <td>...</td>\n",
       "      <td>0.0</td>\n",
       "      <td>0.0</td>\n",
       "      <td>0.0</td>\n",
       "      <td>0.0</td>\n",
       "      <td>0.0</td>\n",
       "      <td>0.0</td>\n",
       "      <td>0.0</td>\n",
       "      <td>0.0</td>\n",
       "      <td>0.0</td>\n",
       "      <td>0.0</td>\n",
       "    </tr>\n",
       "    <tr>\n",
       "      <th>3</th>\n",
       "      <td>0.967136</td>\n",
       "      <td>1.000000</td>\n",
       "      <td>0.830986</td>\n",
       "      <td>0.586854</td>\n",
       "      <td>0.356808</td>\n",
       "      <td>0.248826</td>\n",
       "      <td>0.145540</td>\n",
       "      <td>0.089202</td>\n",
       "      <td>0.117371</td>\n",
       "      <td>0.150235</td>\n",
       "      <td>...</td>\n",
       "      <td>0.0</td>\n",
       "      <td>0.0</td>\n",
       "      <td>0.0</td>\n",
       "      <td>0.0</td>\n",
       "      <td>0.0</td>\n",
       "      <td>0.0</td>\n",
       "      <td>0.0</td>\n",
       "      <td>0.0</td>\n",
       "      <td>0.0</td>\n",
       "      <td>0.0</td>\n",
       "    </tr>\n",
       "    <tr>\n",
       "      <th>4</th>\n",
       "      <td>0.927461</td>\n",
       "      <td>1.000000</td>\n",
       "      <td>0.626943</td>\n",
       "      <td>0.193437</td>\n",
       "      <td>0.094991</td>\n",
       "      <td>0.072539</td>\n",
       "      <td>0.043178</td>\n",
       "      <td>0.053541</td>\n",
       "      <td>0.093264</td>\n",
       "      <td>0.189983</td>\n",
       "      <td>...</td>\n",
       "      <td>0.0</td>\n",
       "      <td>0.0</td>\n",
       "      <td>0.0</td>\n",
       "      <td>0.0</td>\n",
       "      <td>0.0</td>\n",
       "      <td>0.0</td>\n",
       "      <td>0.0</td>\n",
       "      <td>0.0</td>\n",
       "      <td>0.0</td>\n",
       "      <td>0.0</td>\n",
       "    </tr>\n",
       "  </tbody>\n",
       "</table>\n",
       "<p>5 rows × 188 columns</p>\n",
       "</div>"
      ],
      "text/plain": [
       "   9.779411554336547852e-01  9.264705777168273926e-01  \\\n",
       "0                  0.960114                  0.863248   \n",
       "1                  1.000000                  0.659459   \n",
       "2                  0.925414                  0.665746   \n",
       "3                  0.967136                  1.000000   \n",
       "4                  0.927461                  1.000000   \n",
       "\n",
       "   6.813725233078002930e-01  2.450980395078659058e-01  \\\n",
       "0                  0.461538                  0.196581   \n",
       "1                  0.186486                  0.070270   \n",
       "2                  0.541436                  0.276243   \n",
       "3                  0.830986                  0.586854   \n",
       "4                  0.626943                  0.193437   \n",
       "\n",
       "   1.544117629528045654e-01  1.911764740943908691e-01  \\\n",
       "0                  0.094017                  0.125356   \n",
       "1                  0.070270                  0.059459   \n",
       "2                  0.196133                  0.077348   \n",
       "3                  0.356808                  0.248826   \n",
       "4                  0.094991                  0.072539   \n",
       "\n",
       "   1.519607901573181152e-01  8.578431606292724609e-02  \\\n",
       "0                  0.099715                  0.088319   \n",
       "1                  0.056757                  0.043243   \n",
       "2                  0.071823                  0.060773   \n",
       "3                  0.145540                  0.089202   \n",
       "4                  0.043178                  0.053541   \n",
       "\n",
       "   5.882352963089942932e-02  4.901960864663124084e-02  ...  \\\n",
       "0                  0.074074                  0.082621  ...   \n",
       "1                  0.054054                  0.045946  ...   \n",
       "2                  0.066298                  0.058011  ...   \n",
       "3                  0.117371                  0.150235  ...   \n",
       "4                  0.093264                  0.189983  ...   \n",
       "\n",
       "   0.000000000000000000e+00.79  0.000000000000000000e+00.80  \\\n",
       "0                          0.0                          0.0   \n",
       "1                          0.0                          0.0   \n",
       "2                          0.0                          0.0   \n",
       "3                          0.0                          0.0   \n",
       "4                          0.0                          0.0   \n",
       "\n",
       "   0.000000000000000000e+00.81  0.000000000000000000e+00.82  \\\n",
       "0                          0.0                          0.0   \n",
       "1                          0.0                          0.0   \n",
       "2                          0.0                          0.0   \n",
       "3                          0.0                          0.0   \n",
       "4                          0.0                          0.0   \n",
       "\n",
       "   0.000000000000000000e+00.83  0.000000000000000000e+00.84  \\\n",
       "0                          0.0                          0.0   \n",
       "1                          0.0                          0.0   \n",
       "2                          0.0                          0.0   \n",
       "3                          0.0                          0.0   \n",
       "4                          0.0                          0.0   \n",
       "\n",
       "   0.000000000000000000e+00.85  0.000000000000000000e+00.86  \\\n",
       "0                          0.0                          0.0   \n",
       "1                          0.0                          0.0   \n",
       "2                          0.0                          0.0   \n",
       "3                          0.0                          0.0   \n",
       "4                          0.0                          0.0   \n",
       "\n",
       "   0.000000000000000000e+00.87  0.000000000000000000e+00.88  \n",
       "0                          0.0                          0.0  \n",
       "1                          0.0                          0.0  \n",
       "2                          0.0                          0.0  \n",
       "3                          0.0                          0.0  \n",
       "4                          0.0                          0.0  \n",
       "\n",
       "[5 rows x 188 columns]"
      ]
     },
     "execution_count": 5,
     "metadata": {},
     "output_type": "execute_result"
    }
   ],
   "source": [
    "train_data.head()"
   ]
  },
  {
   "cell_type": "markdown",
   "id": "cd379ab4",
   "metadata": {
    "papermill": {
     "duration": 0.008089,
     "end_time": "2025-02-28T12:26:24.986231",
     "exception": false,
     "start_time": "2025-02-28T12:26:24.978142",
     "status": "completed"
    },
    "tags": []
   },
   "source": [
    "## Missing values"
   ]
  },
  {
   "cell_type": "code",
   "execution_count": 6,
   "id": "47c42963",
   "metadata": {
    "execution": {
     "iopub.execute_input": "2025-02-28T12:26:25.003481Z",
     "iopub.status.busy": "2025-02-28T12:26:25.003173Z",
     "iopub.status.idle": "2025-02-28T12:26:25.075522Z",
     "shell.execute_reply": "2025-02-28T12:26:25.074603Z"
    },
    "papermill": {
     "duration": 0.082441,
     "end_time": "2025-02-28T12:26:25.076914",
     "exception": false,
     "start_time": "2025-02-28T12:26:24.994473",
     "status": "completed"
    },
    "tags": []
   },
   "outputs": [
    {
     "name": "stdout",
     "output_type": "stream",
     "text": [
      "Missing values in train data: 0\n",
      "Missing values in test data: 0\n"
     ]
    }
   ],
   "source": [
    "print(f\"Missing values in train data: {train_data.isna().sum().sum()}\")\n",
    "print(f\"Missing values in test data: {test_data.isna().sum().sum()}\")"
   ]
  },
  {
   "cell_type": "code",
   "execution_count": 7,
   "id": "450377b8",
   "metadata": {
    "execution": {
     "iopub.execute_input": "2025-02-28T12:26:25.094795Z",
     "iopub.status.busy": "2025-02-28T12:26:25.094551Z",
     "iopub.status.idle": "2025-02-28T12:26:25.733326Z",
     "shell.execute_reply": "2025-02-28T12:26:25.732301Z"
    },
    "papermill": {
     "duration": 0.649217,
     "end_time": "2025-02-28T12:26:25.734898",
     "exception": false,
     "start_time": "2025-02-28T12:26:25.085681",
     "status": "completed"
    },
    "tags": []
   },
   "outputs": [
    {
     "name": "stdout",
     "output_type": "stream",
     "text": [
      "Duplicated values in train data: 0\n",
      "Duplicated values in test data: 0\n"
     ]
    }
   ],
   "source": [
    "print(f\"Duplicated values in train data: {train_data.duplicated().sum()}\")\n",
    "print(f\"Duplicated values in test data: {test_data.duplicated().sum()}\")"
   ]
  },
  {
   "cell_type": "markdown",
   "id": "c6f86af7",
   "metadata": {
    "papermill": {
     "duration": 0.00827,
     "end_time": "2025-02-28T12:26:25.752364",
     "exception": false,
     "start_time": "2025-02-28T12:26:25.744094",
     "status": "completed"
    },
    "tags": []
   },
   "source": [
    "## Plot ECG"
   ]
  },
  {
   "cell_type": "code",
   "execution_count": 8,
   "id": "970eb3d9",
   "metadata": {
    "execution": {
     "iopub.execute_input": "2025-02-28T12:26:25.770166Z",
     "iopub.status.busy": "2025-02-28T12:26:25.769907Z",
     "iopub.status.idle": "2025-02-28T12:26:25.773727Z",
     "shell.execute_reply": "2025-02-28T12:26:25.773082Z"
    },
    "papermill": {
     "duration": 0.014314,
     "end_time": "2025-02-28T12:26:25.775104",
     "exception": false,
     "start_time": "2025-02-28T12:26:25.760790",
     "status": "completed"
    },
    "tags": []
   },
   "outputs": [],
   "source": [
    "# Input labels\n",
    "labels = {\n",
    "    0: \"Normal\",\n",
    "    1: \"Artial Premature\",\n",
    "    2: \"Premature ventricular contraction\",\n",
    "    3: \"Fusion of ventricular and normal\",\n",
    "    4: \"Fusion of paced and normal\"\n",
    "}"
   ]
  },
  {
   "cell_type": "code",
   "execution_count": 9,
   "id": "d572ae52",
   "metadata": {
    "execution": {
     "iopub.execute_input": "2025-02-28T12:26:25.792634Z",
     "iopub.status.busy": "2025-02-28T12:26:25.792431Z",
     "iopub.status.idle": "2025-02-28T12:26:31.122166Z",
     "shell.execute_reply": "2025-02-28T12:26:31.121284Z"
    },
    "papermill": {
     "duration": 5.341517,
     "end_time": "2025-02-28T12:26:31.125150",
     "exception": false,
     "start_time": "2025-02-28T12:26:25.783633",
     "status": "completed"
    },
    "tags": []
   },
   "outputs": [
    {
     "data": {
      "image/png": "[encoded data removed]",
      "text/plain": [
       "<Figure size 2000x1500 with 5 Axes>"
      ]
     },
     "metadata": {},
     "output_type": "display_data"
    }
   ],
   "source": [
    "train_classes = train_data.iloc[:,-1].unique()\n",
    "\n",
    "plt.figure(figsize=(20,15))\n",
    "\n",
    "for idx, cls in enumerate(train_classes):\n",
    "    plt.subplot(3,2,idx+1)\n",
    "    plt.plot(train_data[train_data.iloc[:,-1]==cls].iloc[2,:-1])\n",
    "    plt.title(labels[idx])\n",
    "\n",
    "plt.show()"
   ]
  },
  {
   "cell_type": "markdown",
   "id": "276d644a",
   "metadata": {
    "papermill": {
     "duration": 0.010809,
     "end_time": "2025-02-28T12:26:31.147386",
     "exception": false,
     "start_time": "2025-02-28T12:26:31.136577",
     "status": "completed"
    },
    "tags": []
   },
   "source": [
    "We can see that their is a time relationship in the x-axis, so it is my intention to use time series based model to process this data. We gonna talk about that later"
   ]
  },
  {
   "cell_type": "markdown",
   "id": "cdfff50b",
   "metadata": {
    "papermill": {
     "duration": 0.010775,
     "end_time": "2025-02-28T12:26:31.168672",
     "exception": false,
     "start_time": "2025-02-28T12:26:31.157897",
     "status": "completed"
    },
    "tags": []
   },
   "source": [
    "# Value count"
   ]
  },
  {
   "cell_type": "code",
   "execution_count": 10,
   "id": "5e6c0890",
   "metadata": {
    "execution": {
     "iopub.execute_input": "2025-02-28T12:26:31.191518Z",
     "iopub.status.busy": "2025-02-28T12:26:31.191281Z",
     "iopub.status.idle": "2025-02-28T12:26:31.403177Z",
     "shell.execute_reply": "2025-02-28T12:26:31.402215Z"
    },
    "papermill": {
     "duration": 0.22508,
     "end_time": "2025-02-28T12:26:31.404525",
     "exception": false,
     "start_time": "2025-02-28T12:26:31.179445",
     "status": "completed"
    },
    "tags": []
   },
   "outputs": [
    {
     "data": {
      "text/plain": [
       "Text(0, 0.5, 'Number of samples')"
      ]
     },
     "execution_count": 10,
     "metadata": {},
     "output_type": "execute_result"
    },
    {
     "data": {
      "image/png": "[encoded data removed]",
      "text/plain": [
       "<Figure size 640x480 with 1 Axes>"
      ]
     },
     "metadata": {},
     "output_type": "display_data"
    }
   ],
   "source": [
    "value_counts = train_data.iloc[:,-1].value_counts()\n",
    "fig_train = sns.barplot(x=value_counts.index, y=value_counts.values)\n",
    "plt.title('Number of images per class - Train set')\n",
    "plt.xlabel('Class')\n",
    "plt.ylabel('Number of samples')"
   ]
  },
  {
   "cell_type": "code",
   "execution_count": 11,
   "id": "f19000f5",
   "metadata": {
    "execution": {
     "iopub.execute_input": "2025-02-28T12:26:31.428820Z",
     "iopub.status.busy": "2025-02-28T12:26:31.428577Z",
     "iopub.status.idle": "2025-02-28T12:26:31.633008Z",
     "shell.execute_reply": "2025-02-28T12:26:31.632102Z"
    },
    "papermill": {
     "duration": 0.218307,
     "end_time": "2025-02-28T12:26:31.634419",
     "exception": false,
     "start_time": "2025-02-28T12:26:31.416112",
     "status": "completed"
    },
    "tags": []
   },
   "outputs": [
    {
     "data": {
      "text/plain": [
       "Text(0, 0.5, 'Number of samples')"
      ]
     },
     "execution_count": 11,
     "metadata": {},
     "output_type": "execute_result"
    },
    {
     "data": {
      "image/png": "[encoded data removed]",
      "text/plain": [
       "<Figure size 640x480 with 1 Axes>"
      ]
     },
     "metadata": {},
     "output_type": "display_data"
    }
   ],
   "source": [
    "value_counts = test_data.iloc[:,-1].value_counts()\n",
    "fig_test = sns.barplot(x=value_counts.index, y=value_counts.values)\n",
    "plt.title('Number of images per class - Test set')\n",
    "plt.xlabel('Class')\n",
    "plt.ylabel('Number of samples')"
   ]
  },
  {
   "cell_type": "markdown",
   "id": "166bf58e",
   "metadata": {
    "papermill": {
     "duration": 0.011788,
     "end_time": "2025-02-28T12:26:31.660614",
     "exception": false,
     "start_time": "2025-02-28T12:26:31.648826",
     "status": "completed"
    },
    "tags": []
   },
   "source": [
    "We can see that the dataset is heavily imbalanced. Thereby it is more reasonable to apply a sampling approach to handle this dataset properly"
   ]
  },
  {
   "cell_type": "markdown",
   "id": "796c9091",
   "metadata": {
    "papermill": {
     "duration": 0.012097,
     "end_time": "2025-02-28T12:26:31.684721",
     "exception": false,
     "start_time": "2025-02-28T12:26:31.672624",
     "status": "completed"
    },
    "tags": []
   },
   "source": [
    "## Weight sampling"
   ]
  },
  {
   "cell_type": "code",
   "execution_count": 12,
   "id": "6e331d66",
   "metadata": {
    "execution": {
     "iopub.execute_input": "2025-02-28T12:26:31.710634Z",
     "iopub.status.busy": "2025-02-28T12:26:31.710348Z",
     "iopub.status.idle": "2025-02-28T12:26:31.715273Z",
     "shell.execute_reply": "2025-02-28T12:26:31.714405Z"
    },
    "papermill": {
     "duration": 0.020206,
     "end_time": "2025-02-28T12:26:31.716735",
     "exception": false,
     "start_time": "2025-02-28T12:26:31.696529",
     "status": "completed"
    },
    "tags": []
   },
   "outputs": [
    {
     "data": {
      "text/plain": [
       "87553"
      ]
     },
     "execution_count": 12,
     "metadata": {},
     "output_type": "execute_result"
    }
   ],
   "source": [
    "len(train_data)"
   ]
  },
  {
   "cell_type": "code",
   "execution_count": 13,
   "id": "aee3f180",
   "metadata": {
    "execution": {
     "iopub.execute_input": "2025-02-28T12:26:31.741721Z",
     "iopub.status.busy": "2025-02-28T12:26:31.741461Z",
     "iopub.status.idle": "2025-02-28T12:26:31.762426Z",
     "shell.execute_reply": "2025-02-28T12:26:31.761735Z"
    },
    "papermill": {
     "duration": 0.034818,
     "end_time": "2025-02-28T12:26:31.763680",
     "exception": false,
     "start_time": "2025-02-28T12:26:31.728862",
     "status": "completed"
    },
    "tags": []
   },
   "outputs": [
    {
     "data": {
      "text/plain": [
       "[1.208127501034911,\n",
       " 1.208127501034911,\n",
       " 1.208127501034911,\n",
       " 1.208127501034911,\n",
       " 1.208127501034911]"
      ]
     },
     "execution_count": 13,
     "metadata": {},
     "output_type": "execute_result"
    }
   ],
   "source": [
    "class_counts = train_data.iloc[:,-1].value_counts().to_dict()\n",
    "class_weights = {cls:len(train_data)/count for cls, count in class_counts.items()}\n",
    "sample_weights = [class_weights[target] for target in train_data.iloc[:,-1]]\n",
    "sample_weights[:5]"
   ]
  },
  {
   "cell_type": "code",
   "execution_count": 14,
   "id": "824ef6bf",
   "metadata": {
    "execution": {
     "iopub.execute_input": "2025-02-28T12:26:31.789423Z",
     "iopub.status.busy": "2025-02-28T12:26:31.789135Z",
     "iopub.status.idle": "2025-02-28T12:26:31.792957Z",
     "shell.execute_reply": "2025-02-28T12:26:31.792154Z"
    },
    "papermill": {
     "duration": 0.01832,
     "end_time": "2025-02-28T12:26:31.794258",
     "exception": false,
     "start_time": "2025-02-28T12:26:31.775938",
     "status": "completed"
    },
    "tags": []
   },
   "outputs": [
    {
     "name": "stdout",
     "output_type": "stream",
     "text": [
      "{0.0: 1.208127501034911, 4.0: 13.614212408645622, 2.0: 15.126641326883206, 1.0: 39.38506522717049, 3.0: 136.58814352574103}\n"
     ]
    }
   ],
   "source": [
    "print(class_weights)"
   ]
  },
  {
   "cell_type": "code",
   "execution_count": 15,
   "id": "6f6f998d",
   "metadata": {
    "execution": {
     "iopub.execute_input": "2025-02-28T12:26:31.819857Z",
     "iopub.status.busy": "2025-02-28T12:26:31.819629Z",
     "iopub.status.idle": "2025-02-28T12:26:31.841068Z",
     "shell.execute_reply": "2025-02-28T12:26:31.840446Z"
    },
    "papermill": {
     "duration": 0.035559,
     "end_time": "2025-02-28T12:26:31.842320",
     "exception": false,
     "start_time": "2025-02-28T12:26:31.806761",
     "status": "completed"
    },
    "tags": []
   },
   "outputs": [],
   "source": [
    "sampler = WeightedRandomSampler(weights = sample_weights, num_samples = len(sample_weights), replacement = True)"
   ]
  },
  {
   "cell_type": "markdown",
   "id": "5b27d6cf",
   "metadata": {
    "papermill": {
     "duration": 0.012719,
     "end_time": "2025-02-28T12:26:31.867640",
     "exception": false,
     "start_time": "2025-02-28T12:26:31.854921",
     "status": "completed"
    },
    "tags": []
   },
   "source": [
    "## Define train and test dataset"
   ]
  },
  {
   "cell_type": "code",
   "execution_count": 16,
   "id": "8f87cb03",
   "metadata": {
    "execution": {
     "iopub.execute_input": "2025-02-28T12:26:31.894226Z",
     "iopub.status.busy": "2025-02-28T12:26:31.893983Z",
     "iopub.status.idle": "2025-02-28T12:26:31.900022Z",
     "shell.execute_reply": "2025-02-28T12:26:31.899397Z"
    },
    "papermill": {
     "duration": 0.020684,
     "end_time": "2025-02-28T12:26:31.901394",
     "exception": false,
     "start_time": "2025-02-28T12:26:31.880710",
     "status": "completed"
    },
    "tags": []
   },
   "outputs": [
    {
     "name": "stdout",
     "output_type": "stream",
     "text": [
      "(87553, 187) (87553,) (21891, 187) (21891,)\n"
     ]
    }
   ],
   "source": [
    "ecg_train = train_data.iloc[:,:-1].values\n",
    "label_train = train_data.iloc[:,-1].values\n",
    "ecg_test = test_data.iloc[:,:-1].values\n",
    "label_test = test_data.iloc[:,-1].values\n",
    "\n",
    "print(ecg_train.shape, label_train.shape, ecg_test.shape, label_test.shape)"
   ]
  },
  {
   "cell_type": "code",
   "execution_count": 17,
   "id": "656bbd1f",
   "metadata": {
    "execution": {
     "iopub.execute_input": "2025-02-28T12:26:31.926745Z",
     "iopub.status.busy": "2025-02-28T12:26:31.926520Z",
     "iopub.status.idle": "2025-02-28T12:26:32.139690Z",
     "shell.execute_reply": "2025-02-28T12:26:32.138690Z"
    },
    "papermill": {
     "duration": 0.227238,
     "end_time": "2025-02-28T12:26:32.141127",
     "exception": false,
     "start_time": "2025-02-28T12:26:31.913889",
     "status": "completed"
    },
    "tags": []
   },
   "outputs": [
    {
     "name": "stdout",
     "output_type": "stream",
     "text": [
      "New Training set size: 87553\n",
      "Validation set size: 10945\n",
      "Test set size: 10946\n"
     ]
    }
   ],
   "source": [
    "# Scailing the data\n",
    "\n",
    "scaler = MinMaxScaler()\n",
    "ecg_train_scaled = scaler.fit_transform(ecg_train)\n",
    "ecg_test_scaled = scaler.transform(ecg_test)\n",
    "\n",
    "# Define the number of samples for the validation set based on the test data size\n",
    "n_test_samples = ecg_test.shape[0]\n",
    "\n",
    "# Split the training data into new training and validation sets\n",
    "ecg_val, ecg_test, label_val, label_test = train_test_split(ecg_test_scaled, label_test, test_size=0.5, random_state=6, stratify=label_test)\n",
    "\n",
    "# Reshape the data for LSTM (samples, timesteps, features)\n",
    "ecg_train_scaled = np.reshape(ecg_train_scaled, (ecg_train_scaled.shape[0], ecg_train_scaled.shape[1]))\n",
    "ecg_val = np.reshape(ecg_val, (ecg_val.shape[0], ecg_val.shape[1]))\n",
    "ecg_test = np.reshape(ecg_test, (ecg_test.shape[0], ecg_test.shape[1]))\n",
    "\n",
    "\n",
    "print(f\"New Training set size: {ecg_train_scaled.shape[0]}\")\n",
    "print(f\"Validation set size: {ecg_val.shape[0]}\")\n",
    "print(f\"Test set size: {ecg_test.shape[0]}\")"
   ]
  },
  {
   "cell_type": "code",
   "execution_count": 18,
   "id": "c264e5a9",
   "metadata": {
    "execution": {
     "iopub.execute_input": "2025-02-28T12:26:32.167052Z",
     "iopub.status.busy": "2025-02-28T12:26:32.166769Z",
     "iopub.status.idle": "2025-02-28T12:26:32.296417Z",
     "shell.execute_reply": "2025-02-28T12:26:32.295482Z"
    },
    "papermill": {
     "duration": 0.144063,
     "end_time": "2025-02-28T12:26:32.297850",
     "exception": false,
     "start_time": "2025-02-28T12:26:32.153787",
     "status": "completed"
    },
    "tags": []
   },
   "outputs": [
    {
     "data": {
      "text/plain": [
       "Text(0.5, 1.0, 'Train - Test split ratio')"
      ]
     },
     "execution_count": 18,
     "metadata": {},
     "output_type": "execute_result"
    },
    {
     "data": {
      "image/png": "[encoded data removed]",
      "text/plain": [
       "<Figure size 640x480 with 1 Axes>"
      ]
     },
     "metadata": {},
     "output_type": "display_data"
    }
   ],
   "source": [
    "def func(pct, allvals):\n",
    "    absolute = int(np.round(pct/100.*np.sum(allvals)))\n",
    "    return f\"{pct:.1f}%\\n({absolute:d} samples)\"\n",
    "plt.pie((ecg_train_scaled.shape[0], ecg_val.shape[0], ecg_test.shape[0]), labels = [\"Train\", \"Validation\", \"Test\"], autopct=lambda pct: func(pct, (ecg_train_scaled.shape[0], ecg_val.shape[0], ecg_test.shape[0])))\n",
    "plt.title('Train - Test split ratio')"
   ]
  },
  {
   "cell_type": "code",
   "execution_count": 19,
   "id": "1dddf3a9",
   "metadata": {
    "execution": {
     "iopub.execute_input": "2025-02-28T12:26:32.325627Z",
     "iopub.status.busy": "2025-02-28T12:26:32.325373Z",
     "iopub.status.idle": "2025-02-28T12:26:32.330567Z",
     "shell.execute_reply": "2025-02-28T12:26:32.329714Z"
    },
    "papermill": {
     "duration": 0.020362,
     "end_time": "2025-02-28T12:26:32.331797",
     "exception": false,
     "start_time": "2025-02-28T12:26:32.311435",
     "status": "completed"
    },
    "tags": []
   },
   "outputs": [
    {
     "name": "stdout",
     "output_type": "stream",
     "text": [
      "Train shape:  (87553, 187)\n",
      "Label train shape:  (87553,)\n"
     ]
    }
   ],
   "source": [
    "print(\"Train shape: \", ecg_train_scaled.shape)\n",
    "print(\"Label train shape: \", label_train.shape)"
   ]
  },
  {
   "cell_type": "markdown",
   "id": "90f989e9",
   "metadata": {
    "papermill": {
     "duration": 0.013064,
     "end_time": "2025-02-28T12:26:32.358402",
     "exception": false,
     "start_time": "2025-02-28T12:26:32.345338",
     "status": "completed"
    },
    "tags": []
   },
   "source": [
    "## Load dataset"
   ]
  },
  {
   "cell_type": "code",
   "execution_count": 20,
   "id": "9c353c8a",
   "metadata": {
    "execution": {
     "iopub.execute_input": "2025-02-28T12:26:32.386892Z",
     "iopub.status.busy": "2025-02-28T12:26:32.386648Z",
     "iopub.status.idle": "2025-02-28T12:26:32.447854Z",
     "shell.execute_reply": "2025-02-28T12:26:32.447035Z"
    },
    "papermill": {
     "duration": 0.077119,
     "end_time": "2025-02-28T12:26:32.449345",
     "exception": false,
     "start_time": "2025-02-28T12:26:32.372226",
     "status": "completed"
    },
    "tags": []
   },
   "outputs": [],
   "source": [
    "batch_size = 64\n",
    "\n",
    "# Train\n",
    "ecg_train_scaled = torch.tensor(ecg_train_scaled, dtype=torch.float32)\n",
    "label_train = torch.tensor(label_train, dtype=torch.long).view(-1)\n",
    "train_dataset = TensorDataset(ecg_train_scaled, label_train)\n",
    "train_loader = DataLoader(train_dataset, batch_size = batch_size, sampler = sampler)\n",
    "\n",
    "# Val\n",
    "ecg_val = torch.tensor(ecg_val, dtype=torch.float32)\n",
    "label_val = torch.tensor(label_val, dtype=torch.long).view(-1)\n",
    "val_dataset = TensorDataset(ecg_val, label_val)\n",
    "val_loader = DataLoader(val_dataset, batch_size = batch_size, shuffle = True)\n",
    "\n",
    "# Test\n",
    "ecg_test = torch.tensor(ecg_test, dtype=torch.float32)\n",
    "label_test = torch.tensor(label_test, dtype=torch.long).view(-1)\n",
    "test_dataset = TensorDataset(ecg_test, label_test)\n",
    "test_loader = DataLoader(test_dataset, batch_size = batch_size, shuffle = False)"
   ]
  },
  {
   "cell_type": "markdown",
   "id": "52de99f8",
   "metadata": {
    "papermill": {
     "duration": 0.012628,
     "end_time": "2025-02-28T12:26:32.475400",
     "exception": false,
     "start_time": "2025-02-28T12:26:32.462772",
     "status": "completed"
    },
    "tags": []
   },
   "source": [
    "## LSTM model"
   ]
  },
  {
   "cell_type": "code",
   "execution_count": 21,
   "id": "bc4ca906",
   "metadata": {
    "execution": {
     "iopub.execute_input": "2025-02-28T12:26:32.502591Z",
     "iopub.status.busy": "2025-02-28T12:26:32.502333Z",
     "iopub.status.idle": "2025-02-28T12:26:32.507801Z",
     "shell.execute_reply": "2025-02-28T12:26:32.507032Z"
    },
    "papermill": {
     "duration": 0.020645,
     "end_time": "2025-02-28T12:26:32.509121",
     "exception": false,
     "start_time": "2025-02-28T12:26:32.488476",
     "status": "completed"
    },
    "tags": []
   },
   "outputs": [],
   "source": [
    "\n",
    "\n",
    "class LSTM_classification(nn.Module):\n",
    "    def __init__(self):\n",
    "        super(LSTM_classification, self).__init__()\n",
    "        self.lstm1 = nn.LSTM(input_size=187, hidden_size=128, batch_first=True)\n",
    "        self.dropout1 = nn.Dropout(0.2)\n",
    "        self.lstm2 = nn.LSTM(input_size=128, hidden_size=64, batch_first=True)\n",
    "        self.dropout2 = nn.Dropout(0.2)\n",
    "        self.fc = nn.Linear(64, 5)\n",
    "        \n",
    "    def forward(self, x):\n",
    "        x = x.unsqueeze(1) # for sequence_length 1\n",
    "        x, _ = self.lstm1(x)\n",
    "        x = self.dropout1(x)\n",
    "        x, _ = self.lstm2(x)\n",
    "        x = self.dropout2(x)\n",
    "        x = x[:, -1]\n",
    "        x = self.fc(x)\n",
    "        return x\n",
    "        "
   ]
  },
  {
   "cell_type": "code",
   "execution_count": 22,
   "id": "5b147800",
   "metadata": {
    "execution": {
     "iopub.execute_input": "2025-02-28T12:26:32.537543Z",
     "iopub.status.busy": "2025-02-28T12:26:32.537089Z",
     "iopub.status.idle": "2025-02-28T12:26:32.735323Z",
     "shell.execute_reply": "2025-02-28T12:26:32.733942Z"
    },
    "papermill": {
     "duration": 0.214998,
     "end_time": "2025-02-28T12:26:32.737734",
     "exception": false,
     "start_time": "2025-02-28T12:26:32.522736",
     "status": "completed"
    },
    "tags": []
   },
   "outputs": [],
   "source": [
    "model = LSTM_classification()\n",
    "X_train_tensor = torch.randn(3, 187)\n",
    "output = model(X_train_tensor)\n"
   ]
  },
  {
   "cell_type": "code",
   "execution_count": 23,
   "id": "5eb55642",
   "metadata": {
    "execution": {
     "iopub.execute_input": "2025-02-28T12:26:32.778493Z",
     "iopub.status.busy": "2025-02-28T12:26:32.778177Z",
     "iopub.status.idle": "2025-02-28T12:26:32.782766Z",
     "shell.execute_reply": "2025-02-28T12:26:32.781902Z"
    },
    "papermill": {
     "duration": 0.025545,
     "end_time": "2025-02-28T12:26:32.783983",
     "exception": false,
     "start_time": "2025-02-28T12:26:32.758438",
     "status": "completed"
    },
    "tags": []
   },
   "outputs": [
    {
     "name": "stdout",
     "output_type": "stream",
     "text": [
      "torch.Size([3, 5])\n"
     ]
    }
   ],
   "source": [
    "print(output.shape)"
   ]
  },
  {
   "cell_type": "markdown",
   "id": "9d76fa35",
   "metadata": {
    "papermill": {
     "duration": 0.013548,
     "end_time": "2025-02-28T12:26:32.811648",
     "exception": false,
     "start_time": "2025-02-28T12:26:32.798100",
     "status": "completed"
    },
    "tags": []
   },
   "source": [
    "# Train model LSTM\n",
    "## Train variables"
   ]
  },
  {
   "cell_type": "code",
   "execution_count": 24,
   "id": "393c9666",
   "metadata": {
    "execution": {
     "iopub.execute_input": "2025-02-28T12:26:32.839600Z",
     "iopub.status.busy": "2025-02-28T12:26:32.839379Z",
     "iopub.status.idle": "2025-02-28T12:26:32.842444Z",
     "shell.execute_reply": "2025-02-28T12:26:32.841764Z"
    },
    "papermill": {
     "duration": 0.018596,
     "end_time": "2025-02-28T12:26:32.843743",
     "exception": false,
     "start_time": "2025-02-28T12:26:32.825147",
     "status": "completed"
    },
    "tags": []
   },
   "outputs": [],
   "source": [
    "# batch_size = 32\n",
    "num_epochs = 152\n",
    "validation_step = 4"
   ]
  },
  {
   "cell_type": "code",
   "execution_count": 25,
   "id": "0f280434",
   "metadata": {
    "execution": {
     "iopub.execute_input": "2025-02-28T12:26:32.872253Z",
     "iopub.status.busy": "2025-02-28T12:26:32.871994Z",
     "iopub.status.idle": "2025-02-28T12:26:32.876652Z",
     "shell.execute_reply": "2025-02-28T12:26:32.875914Z"
    },
    "papermill": {
     "duration": 0.020729,
     "end_time": "2025-02-28T12:26:32.877992",
     "exception": false,
     "start_time": "2025-02-28T12:26:32.857263",
     "status": "completed"
    },
    "tags": []
   },
   "outputs": [
    {
     "data": {
      "text/plain": [
       "torch.Size([10946, 187])"
      ]
     },
     "execution_count": 25,
     "metadata": {},
     "output_type": "execute_result"
    }
   ],
   "source": [
    "ecg_test.shape"
   ]
  },
  {
   "cell_type": "markdown",
   "id": "50150d87",
   "metadata": {
    "papermill": {
     "duration": 0.013867,
     "end_time": "2025-02-28T12:26:32.905444",
     "exception": false,
     "start_time": "2025-02-28T12:26:32.891577",
     "status": "completed"
    },
    "tags": []
   },
   "source": [
    "## Set model"
   ]
  },
  {
   "cell_type": "code",
   "execution_count": 26,
   "id": "41b3c2c4",
   "metadata": {
    "execution": {
     "iopub.execute_input": "2025-02-28T12:26:32.934279Z",
     "iopub.status.busy": "2025-02-28T12:26:32.934031Z",
     "iopub.status.idle": "2025-02-28T12:26:33.289476Z",
     "shell.execute_reply": "2025-02-28T12:26:33.288640Z"
    },
    "papermill": {
     "duration": 0.371298,
     "end_time": "2025-02-28T12:26:33.290798",
     "exception": false,
     "start_time": "2025-02-28T12:26:32.919500",
     "status": "completed"
    },
    "tags": []
   },
   "outputs": [
    {
     "name": "stdout",
     "output_type": "stream",
     "text": [
      "Using device: cuda\n"
     ]
    },
    {
     "data": {
      "text/plain": [
       "LSTM_classification(\n",
       "  (lstm1): LSTM(187, 128, batch_first=True)\n",
       "  (dropout1): Dropout(p=0.2, inplace=False)\n",
       "  (lstm2): LSTM(128, 64, batch_first=True)\n",
       "  (dropout2): Dropout(p=0.2, inplace=False)\n",
       "  (fc): Linear(in_features=64, out_features=5, bias=True)\n",
       ")"
      ]
     },
     "execution_count": 26,
     "metadata": {},
     "output_type": "execute_result"
    }
   ],
   "source": [
    "device = torch.device(\"cuda\" if torch.cuda.is_available() else \"cpu\")\n",
    "print(f\"Using device: {device}\")\n",
    "model = LSTM_classification()\n",
    "model.to(device)"
   ]
  },
  {
   "cell_type": "markdown",
   "id": "ff354ab3",
   "metadata": {
    "papermill": {
     "duration": 0.01367,
     "end_time": "2025-02-28T12:26:33.318730",
     "exception": false,
     "start_time": "2025-02-28T12:26:33.305060",
     "status": "completed"
    },
    "tags": []
   },
   "source": [
    "## Set optimizer & Loss function & Scheduler"
   ]
  },
  {
   "cell_type": "code",
   "execution_count": 27,
   "id": "c6b52cf6",
   "metadata": {
    "execution": {
     "iopub.execute_input": "2025-02-28T12:26:33.346436Z",
     "iopub.status.busy": "2025-02-28T12:26:33.346127Z",
     "iopub.status.idle": "2025-02-28T12:26:34.305988Z",
     "shell.execute_reply": "2025-02-28T12:26:34.304910Z"
    },
    "papermill": {
     "duration": 0.975275,
     "end_time": "2025-02-28T12:26:34.307607",
     "exception": false,
     "start_time": "2025-02-28T12:26:33.332332",
     "status": "completed"
    },
    "tags": []
   },
   "outputs": [
    {
     "name": "stdout",
     "output_type": "stream",
     "text": [
      "Unique labels: [0, 1, 2, 3, 4]\n"
     ]
    }
   ],
   "source": [
    "# Test order of labels before pass weighted loss\n",
    "\n",
    "unique_labels = set()\n",
    "for _, y_train in train_loader:\n",
    "    unique_labels.update(y_train.numpy().tolist())\n",
    "print(\"Unique labels:\", sorted(unique_labels))"
   ]
  },
  {
   "cell_type": "code",
   "execution_count": 28,
   "id": "6250a7c7",
   "metadata": {
    "execution": {
     "iopub.execute_input": "2025-02-28T12:26:34.336501Z",
     "iopub.status.busy": "2025-02-28T12:26:34.336174Z",
     "iopub.status.idle": "2025-02-28T12:26:34.340605Z",
     "shell.execute_reply": "2025-02-28T12:26:34.339640Z"
    },
    "papermill": {
     "duration": 0.020206,
     "end_time": "2025-02-28T12:26:34.341952",
     "exception": false,
     "start_time": "2025-02-28T12:26:34.321746",
     "status": "completed"
    },
    "tags": []
   },
   "outputs": [],
   "source": [
    "loss_weight = torch.tensor([class_weights[0.0], class_weights[1.0], class_weights[2.0], class_weights[3.0], class_weights[4.0]], dtype=torch.float32).to(device)"
   ]
  },
  {
   "cell_type": "code",
   "execution_count": 29,
   "id": "b08fa71e",
   "metadata": {
    "execution": {
     "iopub.execute_input": "2025-02-28T12:26:34.370290Z",
     "iopub.status.busy": "2025-02-28T12:26:34.369996Z",
     "iopub.status.idle": "2025-02-28T12:26:37.960329Z",
     "shell.execute_reply": "2025-02-28T12:26:37.959144Z"
    },
    "papermill": {
     "duration": 3.606552,
     "end_time": "2025-02-28T12:26:37.961893",
     "exception": false,
     "start_time": "2025-02-28T12:26:34.355341",
     "status": "completed"
    },
    "tags": []
   },
   "outputs": [
    {
     "name": "stderr",
     "output_type": "stream",
     "text": [
      "/usr/local/lib/python3.10/dist-packages/torch/optim/lr_scheduler.py:62: UserWarning: The verbose parameter is deprecated. Please use get_last_lr() to access the learning rate.\n",
      "  warnings.warn(\n"
     ]
    }
   ],
   "source": [
    "optimizer = optim.Adam(model.parameters(), lr=0.001)\n",
    "criterion = nn.CrossEntropyLoss()\n",
    "scheduler = lr_scheduler.ReduceLROnPlateau(optimizer, mode='min', factor=0.5, patience=2, min_lr=1e-6, verbose=True)"
   ]
  },
  {
   "cell_type": "code",
   "execution_count": 30,
   "id": "1e81611b",
   "metadata": {
    "execution": {
     "iopub.execute_input": "2025-02-28T12:26:37.990157Z",
     "iopub.status.busy": "2025-02-28T12:26:37.989735Z",
     "iopub.status.idle": "2025-02-28T12:26:37.996481Z",
     "shell.execute_reply": "2025-02-28T12:26:37.995776Z"
    },
    "papermill": {
     "duration": 0.022008,
     "end_time": "2025-02-28T12:26:37.997752",
     "exception": false,
     "start_time": "2025-02-28T12:26:37.975744",
     "status": "completed"
    },
    "tags": []
   },
   "outputs": [],
   "source": [
    "# Function to calculate accuracy\n",
    "def calculate_accuracy(outputs, labels):\n",
    "    _, preds = torch.max(outputs, 1)  # Get predicted class\n",
    "    correct = (preds == labels).float().sum()\n",
    "    return correct / labels.size(0)\n",
    "    \n",
    "def calculate_precision(outputs, labels):\n",
    "    _, preds = torch.max(outputs, 1)\n",
    "    true_positive = (preds == labels) & (labels == 1)\n",
    "    false_positive = (preds != labels) & (preds == 1)\n",
    "    precision = true_positive.sum().float() / (true_positive.sum() + false_positive.sum()).float()\n",
    "    return precision if precision == precision else torch.tensor(0.0)  # Handle NaN case\n",
    "\n",
    "# Recall Calculation\n",
    "def calculate_recall(outputs, labels):\n",
    "    _, preds = torch.max(outputs, 1)\n",
    "    true_positive = (preds == labels) & (labels == 1)\n",
    "    false_negative = (preds != labels) & (labels == 1)\n",
    "    recall = true_positive.sum().float() / (true_positive.sum() + false_negative.sum()).float()\n",
    "    return recall if recall == recall else torch.tensor(0.0)  # Handle NaN case\n",
    "\n",
    "# F1-Score Calculation\n",
    "def calculate_f1(outputs, labels):\n",
    "    precision = calculate_precision(outputs, labels)\n",
    "    recall = calculate_recall(outputs, labels)\n",
    "    if precision + recall == 0:\n",
    "        return torch.tensor(0.0)\n",
    "    f1 = 2 * (precision * recall) / (precision + recall)\n",
    "    return f1"
   ]
  },
  {
   "cell_type": "code",
   "execution_count": 31,
   "id": "87586b15",
   "metadata": {
    "execution": {
     "iopub.execute_input": "2025-02-28T12:26:38.025417Z",
     "iopub.status.busy": "2025-02-28T12:26:38.025164Z",
     "iopub.status.idle": "2025-02-28T12:40:19.844828Z",
     "shell.execute_reply": "2025-02-28T12:40:19.843705Z"
    },
    "papermill": {
     "duration": 821.835289,
     "end_time": "2025-02-28T12:40:19.846445",
     "exception": false,
     "start_time": "2025-02-28T12:26:38.011156",
     "status": "completed"
    },
    "tags": []
   },
   "outputs": [
    {
     "name": "stdout",
     "output_type": "stream",
     "text": [
      "Epoch 1/152 - 5ms/step - accuracy: 0.7743 - loss: 0.5997 - learning_rate: 0.0010\n",
      "Epoch 2/152 - 4ms/step - accuracy: 0.8589 - loss: 0.3830 - learning_rate: 0.0010\n",
      "Epoch 3/152 - 4ms/step - accuracy: 0.8785 - loss: 0.3287 - learning_rate: 0.0010\n",
      "Epoch [4/152], Val Loss: 0.3226, Val Acc: 0.8823\n",
      "Epoch 4/152 - 4ms/step - accuracy: 0.8974 - loss: 0.2807 - learning_rate: 0.0010\n",
      "Epoch 5/152 - 4ms/step - accuracy: 0.9086 - loss: 0.2503 - learning_rate: 0.0010\n",
      "Epoch 6/152 - 4ms/step - accuracy: 0.9185 - loss: 0.2220 - learning_rate: 0.0010\n",
      "Epoch 7/152 - 4ms/step - accuracy: 0.9280 - loss: 0.1977 - learning_rate: 0.0010\n",
      "Epoch [8/152], Val Loss: 0.2274, Val Acc: 0.9233\n",
      "Epoch 8/152 - 4ms/step - accuracy: 0.9319 - loss: 0.1873 - learning_rate: 0.0010\n",
      "Epoch 9/152 - 4ms/step - accuracy: 0.9386 - loss: 0.1692 - learning_rate: 0.0010\n",
      "Epoch 10/152 - 4ms/step - accuracy: 0.9437 - loss: 0.1585 - learning_rate: 0.0010\n",
      "Epoch 11/152 - 4ms/step - accuracy: 0.9459 - loss: 0.1496 - learning_rate: 0.0010\n",
      "Epoch [12/152], Val Loss: 0.2216, Val Acc: 0.9215\n",
      "Epoch 12/152 - 4ms/step - accuracy: 0.9511 - loss: 0.1364 - learning_rate: 0.0010\n",
      "Epoch 13/152 - 4ms/step - accuracy: 0.9535 - loss: 0.1317 - learning_rate: 0.0010\n",
      "Epoch 14/152 - 4ms/step - accuracy: 0.9544 - loss: 0.1270 - learning_rate: 0.0010\n",
      "Epoch 15/152 - 4ms/step - accuracy: 0.9585 - loss: 0.1191 - learning_rate: 0.0010\n",
      "Epoch [16/152], Val Loss: 0.1669, Val Acc: 0.9449\n",
      "Epoch 16/152 - 4ms/step - accuracy: 0.9590 - loss: 0.1142 - learning_rate: 0.0010\n",
      "Epoch 17/152 - 4ms/step - accuracy: 0.9620 - loss: 0.1065 - learning_rate: 0.0010\n",
      "Epoch 18/152 - 4ms/step - accuracy: 0.9634 - loss: 0.1035 - learning_rate: 0.0010\n",
      "Epoch 19/152 - 4ms/step - accuracy: 0.9650 - loss: 0.1003 - learning_rate: 0.0010\n",
      "Epoch [20/152], Val Loss: 0.1565, Val Acc: 0.9480\n",
      "Epoch 20/152 - 4ms/step - accuracy: 0.9663 - loss: 0.0968 - learning_rate: 0.0010\n",
      "Epoch 21/152 - 4ms/step - accuracy: 0.9679 - loss: 0.0928 - learning_rate: 0.0010\n",
      "Epoch 22/152 - 4ms/step - accuracy: 0.9691 - loss: 0.0905 - learning_rate: 0.0010\n",
      "Epoch 23/152 - 4ms/step - accuracy: 0.9697 - loss: 0.0869 - learning_rate: 0.0010\n",
      "Epoch [24/152], Val Loss: 0.1477, Val Acc: 0.9529\n",
      "Epoch 24/152 - 4ms/step - accuracy: 0.9714 - loss: 0.0823 - learning_rate: 0.0010\n",
      "Epoch 25/152 - 4ms/step - accuracy: 0.9720 - loss: 0.0803 - learning_rate: 0.0010\n",
      "Epoch 26/152 - 4ms/step - accuracy: 0.9731 - loss: 0.0786 - learning_rate: 0.0010\n",
      "Epoch 27/152 - 4ms/step - accuracy: 0.9730 - loss: 0.0773 - learning_rate: 0.0010\n",
      "Epoch [28/152], Val Loss: 0.1232, Val Acc: 0.9549\n",
      "Epoch 28/152 - 4ms/step - accuracy: 0.9742 - loss: 0.0751 - learning_rate: 0.0010\n",
      "Epoch 29/152 - 4ms/step - accuracy: 0.9756 - loss: 0.0728 - learning_rate: 0.0010\n",
      "Epoch 30/152 - 4ms/step - accuracy: 0.9759 - loss: 0.0710 - learning_rate: 0.0010\n",
      "Epoch 31/152 - 4ms/step - accuracy: 0.9766 - loss: 0.0689 - learning_rate: 0.0010\n",
      "Epoch [32/152], Val Loss: 0.1375, Val Acc: 0.9564\n",
      "Epoch 32/152 - 4ms/step - accuracy: 0.9763 - loss: 0.0692 - learning_rate: 0.0010\n",
      "Epoch 33/152 - 4ms/step - accuracy: 0.9781 - loss: 0.0652 - learning_rate: 0.0010\n",
      "Epoch 34/152 - 4ms/step - accuracy: 0.9777 - loss: 0.0661 - learning_rate: 0.0010\n",
      "Epoch 35/152 - 4ms/step - accuracy: 0.9778 - loss: 0.0653 - learning_rate: 0.0010\n",
      "Epoch [36/152], Val Loss: 0.1195, Val Acc: 0.9643\n",
      "Epoch 36/152 - 4ms/step - accuracy: 0.9781 - loss: 0.0617 - learning_rate: 0.0010\n",
      "Epoch 37/152 - 4ms/step - accuracy: 0.9787 - loss: 0.0626 - learning_rate: 0.0010\n",
      "Epoch 38/152 - 4ms/step - accuracy: 0.9803 - loss: 0.0589 - learning_rate: 0.0010\n",
      "Epoch 39/152 - 4ms/step - accuracy: 0.9804 - loss: 0.0585 - learning_rate: 0.0010\n",
      "Epoch [40/152], Val Loss: 0.1181, Val Acc: 0.9654\n",
      "Epoch 40/152 - 4ms/step - accuracy: 0.9800 - loss: 0.0582 - learning_rate: 0.0010\n",
      "Epoch 41/152 - 4ms/step - accuracy: 0.9804 - loss: 0.0573 - learning_rate: 0.0010\n",
      "Epoch 42/152 - 4ms/step - accuracy: 0.9812 - loss: 0.0554 - learning_rate: 0.0010\n",
      "Epoch 43/152 - 4ms/step - accuracy: 0.9803 - loss: 0.0579 - learning_rate: 0.0010\n",
      "Epoch [44/152], Val Loss: 0.1200, Val Acc: 0.9662\n",
      "Epoch 44/152 - 4ms/step - accuracy: 0.9808 - loss: 0.0576 - learning_rate: 0.0010\n",
      "Epoch 45/152 - 4ms/step - accuracy: 0.9814 - loss: 0.0540 - learning_rate: 0.0010\n",
      "Epoch 46/152 - 4ms/step - accuracy: 0.9824 - loss: 0.0517 - learning_rate: 0.0010\n",
      "Epoch 47/152 - 4ms/step - accuracy: 0.9829 - loss: 0.0522 - learning_rate: 0.0010\n",
      "Epoch [48/152], Val Loss: 0.1175, Val Acc: 0.9667\n",
      "Epoch 48/152 - 4ms/step - accuracy: 0.9824 - loss: 0.0519 - learning_rate: 0.0010\n",
      "Epoch 49/152 - 4ms/step - accuracy: 0.9826 - loss: 0.0514 - learning_rate: 0.0010\n",
      "Epoch 50/152 - 4ms/step - accuracy: 0.9830 - loss: 0.0505 - learning_rate: 0.0010\n",
      "Epoch 51/152 - 4ms/step - accuracy: 0.9835 - loss: 0.0497 - learning_rate: 0.0010\n",
      "Epoch [52/152], Val Loss: 0.1140, Val Acc: 0.9668\n",
      "Epoch 52/152 - 4ms/step - accuracy: 0.9831 - loss: 0.0513 - learning_rate: 0.0010\n",
      "Epoch 53/152 - 4ms/step - accuracy: 0.9839 - loss: 0.0485 - learning_rate: 0.0010\n",
      "Epoch 54/152 - 4ms/step - accuracy: 0.9841 - loss: 0.0479 - learning_rate: 0.0010\n",
      "Epoch 55/152 - 4ms/step - accuracy: 0.9840 - loss: 0.0488 - learning_rate: 0.0010\n",
      "Epoch [56/152], Val Loss: 0.1031, Val Acc: 0.9721\n",
      "Epoch 56/152 - 4ms/step - accuracy: 0.9836 - loss: 0.0480 - learning_rate: 0.0010\n",
      "Epoch 57/152 - 4ms/step - accuracy: 0.9847 - loss: 0.0457 - learning_rate: 0.0010\n",
      "Epoch 58/152 - 4ms/step - accuracy: 0.9842 - loss: 0.0469 - learning_rate: 0.0010\n",
      "Epoch 59/152 - 4ms/step - accuracy: 0.9846 - loss: 0.0467 - learning_rate: 0.0010\n",
      "Epoch [60/152], Val Loss: 0.1233, Val Acc: 0.9645\n",
      "Epoch 60/152 - 4ms/step - accuracy: 0.9848 - loss: 0.0443 - learning_rate: 0.0010\n",
      "Epoch 61/152 - 4ms/step - accuracy: 0.9850 - loss: 0.0451 - learning_rate: 0.0010\n",
      "Epoch 62/152 - 4ms/step - accuracy: 0.9850 - loss: 0.0451 - learning_rate: 0.0010\n",
      "Epoch 63/152 - 4ms/step - accuracy: 0.9852 - loss: 0.0448 - learning_rate: 0.0010\n",
      "Epoch [64/152], Val Loss: 0.1033, Val Acc: 0.9713\n",
      "Epoch 64/152 - 4ms/step - accuracy: 0.9855 - loss: 0.0428 - learning_rate: 0.0010\n",
      "Epoch 65/152 - 4ms/step - accuracy: 0.9851 - loss: 0.0440 - learning_rate: 0.0010\n",
      "Epoch 66/152 - 4ms/step - accuracy: 0.9859 - loss: 0.0426 - learning_rate: 0.0010\n",
      "Epoch 67/152 - 4ms/step - accuracy: 0.9865 - loss: 0.0407 - learning_rate: 0.0010\n",
      "Epoch [68/152], Val Loss: 0.1124, Val Acc: 0.9708\n",
      "Epoch 68/152 - 4ms/step - accuracy: 0.9863 - loss: 0.0409 - learning_rate: 0.0005\n",
      "Epoch 69/152 - 4ms/step - accuracy: 0.9883 - loss: 0.0350 - learning_rate: 0.0005\n",
      "Epoch 70/152 - 4ms/step - accuracy: 0.9892 - loss: 0.0330 - learning_rate: 0.0005\n",
      "Epoch 71/152 - 4ms/step - accuracy: 0.9889 - loss: 0.0339 - learning_rate: 0.0005\n",
      "Epoch [72/152], Val Loss: 0.1042, Val Acc: 0.9728\n",
      "Epoch 72/152 - 4ms/step - accuracy: 0.9885 - loss: 0.0347 - learning_rate: 0.0005\n",
      "Epoch 73/152 - 4ms/step - accuracy: 0.9891 - loss: 0.0337 - learning_rate: 0.0005\n",
      "Epoch 74/152 - 4ms/step - accuracy: 0.9892 - loss: 0.0324 - learning_rate: 0.0005\n",
      "Epoch 75/152 - 4ms/step - accuracy: 0.9900 - loss: 0.0318 - learning_rate: 0.0005\n",
      "Epoch [76/152], Val Loss: 0.1028, Val Acc: 0.9743\n",
      "Epoch 76/152 - 4ms/step - accuracy: 0.9894 - loss: 0.0332 - learning_rate: 0.0005\n",
      "Epoch 77/152 - 4ms/step - accuracy: 0.9895 - loss: 0.0330 - learning_rate: 0.0005\n",
      "Epoch 78/152 - 4ms/step - accuracy: 0.9893 - loss: 0.0326 - learning_rate: 0.0005\n",
      "Epoch 79/152 - 4ms/step - accuracy: 0.9898 - loss: 0.0315 - learning_rate: 0.0005\n",
      "Epoch [80/152], Val Loss: 0.1043, Val Acc: 0.9740\n",
      "Epoch 80/152 - 4ms/step - accuracy: 0.9900 - loss: 0.0307 - learning_rate: 0.0005\n",
      "Epoch 81/152 - 4ms/step - accuracy: 0.9903 - loss: 0.0308 - learning_rate: 0.0005\n",
      "Epoch 82/152 - 4ms/step - accuracy: 0.9897 - loss: 0.0320 - learning_rate: 0.0005\n",
      "Epoch 83/152 - 4ms/step - accuracy: 0.9895 - loss: 0.0326 - learning_rate: 0.0005\n",
      "Epoch [84/152], Val Loss: 0.1034, Val Acc: 0.9731\n",
      "Epoch 84/152 - 4ms/step - accuracy: 0.9895 - loss: 0.0316 - learning_rate: 0.0005\n",
      "Epoch 85/152 - 4ms/step - accuracy: 0.9903 - loss: 0.0298 - learning_rate: 0.0005\n",
      "Epoch 86/152 - 4ms/step - accuracy: 0.9895 - loss: 0.0320 - learning_rate: 0.0005\n",
      "Epoch 87/152 - 4ms/step - accuracy: 0.9906 - loss: 0.0295 - learning_rate: 0.0005\n",
      "Epoch [88/152], Val Loss: 0.1091, Val Acc: 0.9734\n",
      "Epoch 88/152 - 4ms/step - accuracy: 0.9899 - loss: 0.0310 - learning_rate: 0.0003\n",
      "Epoch 89/152 - 4ms/step - accuracy: 0.9911 - loss: 0.0283 - learning_rate: 0.0003\n",
      "Epoch 90/152 - 4ms/step - accuracy: 0.9908 - loss: 0.0287 - learning_rate: 0.0003\n",
      "Epoch 91/152 - 4ms/step - accuracy: 0.9912 - loss: 0.0277 - learning_rate: 0.0003\n",
      "Epoch [92/152], Val Loss: 0.0967, Val Acc: 0.9767\n",
      "Epoch 92/152 - 4ms/step - accuracy: 0.9919 - loss: 0.0254 - learning_rate: 0.0003\n",
      "Epoch 93/152 - 4ms/step - accuracy: 0.9914 - loss: 0.0265 - learning_rate: 0.0003\n",
      "Epoch 94/152 - 4ms/step - accuracy: 0.9915 - loss: 0.0273 - learning_rate: 0.0003\n",
      "Epoch 95/152 - 4ms/step - accuracy: 0.9916 - loss: 0.0269 - learning_rate: 0.0003\n",
      "Epoch [96/152], Val Loss: 0.1032, Val Acc: 0.9748\n",
      "Epoch 96/152 - 4ms/step - accuracy: 0.9920 - loss: 0.0259 - learning_rate: 0.0003\n",
      "Epoch 97/152 - 4ms/step - accuracy: 0.9913 - loss: 0.0268 - learning_rate: 0.0003\n",
      "Epoch 98/152 - 4ms/step - accuracy: 0.9919 - loss: 0.0259 - learning_rate: 0.0003\n",
      "Epoch 99/152 - 4ms/step - accuracy: 0.9915 - loss: 0.0269 - learning_rate: 0.0003\n",
      "Epoch [100/152], Val Loss: 0.0972, Val Acc: 0.9763\n",
      "Epoch 100/152 - 4ms/step - accuracy: 0.9911 - loss: 0.0272 - learning_rate: 0.0003\n",
      "Epoch 101/152 - 4ms/step - accuracy: 0.9923 - loss: 0.0247 - learning_rate: 0.0003\n",
      "Epoch 102/152 - 4ms/step - accuracy: 0.9918 - loss: 0.0257 - learning_rate: 0.0003\n",
      "Epoch 103/152 - 4ms/step - accuracy: 0.9923 - loss: 0.0248 - learning_rate: 0.0003\n",
      "Epoch [104/152], Val Loss: 0.0982, Val Acc: 0.9775\n",
      "Epoch 104/152 - 4ms/step - accuracy: 0.9917 - loss: 0.0266 - learning_rate: 0.0001\n",
      "Epoch 105/152 - 4ms/step - accuracy: 0.9922 - loss: 0.0249 - learning_rate: 0.0001\n",
      "Epoch 106/152 - 4ms/step - accuracy: 0.9928 - loss: 0.0233 - learning_rate: 0.0001\n",
      "Epoch 107/152 - 4ms/step - accuracy: 0.9921 - loss: 0.0239 - learning_rate: 0.0001\n",
      "Epoch [108/152], Val Loss: 0.0975, Val Acc: 0.9778\n",
      "Epoch 108/152 - 4ms/step - accuracy: 0.9922 - loss: 0.0239 - learning_rate: 0.0001\n",
      "Epoch 109/152 - 4ms/step - accuracy: 0.9927 - loss: 0.0234 - learning_rate: 0.0001\n",
      "Epoch 110/152 - 4ms/step - accuracy: 0.9923 - loss: 0.0245 - learning_rate: 0.0001\n",
      "Epoch 111/152 - 4ms/step - accuracy: 0.9927 - loss: 0.0242 - learning_rate: 0.0001\n",
      "Epoch [112/152], Val Loss: 0.0963, Val Acc: 0.9786\n",
      "Epoch 112/152 - 4ms/step - accuracy: 0.9928 - loss: 0.0236 - learning_rate: 0.0001\n",
      "Epoch 113/152 - 4ms/step - accuracy: 0.9929 - loss: 0.0231 - learning_rate: 0.0001\n",
      "Epoch 114/152 - 4ms/step - accuracy: 0.9926 - loss: 0.0226 - learning_rate: 0.0001\n",
      "Epoch 115/152 - 4ms/step - accuracy: 0.9921 - loss: 0.0245 - learning_rate: 0.0001\n",
      "Epoch [116/152], Val Loss: 0.0961, Val Acc: 0.9779\n",
      "Epoch 116/152 - 4ms/step - accuracy: 0.9921 - loss: 0.0252 - learning_rate: 0.0001\n",
      "Epoch 117/152 - 4ms/step - accuracy: 0.9928 - loss: 0.0234 - learning_rate: 0.0001\n",
      "Epoch 118/152 - 4ms/step - accuracy: 0.9924 - loss: 0.0243 - learning_rate: 0.0001\n",
      "Epoch 119/152 - 4ms/step - accuracy: 0.9924 - loss: 0.0240 - learning_rate: 0.0001\n",
      "Epoch [120/152], Val Loss: 0.0975, Val Acc: 0.9777\n",
      "Epoch 120/152 - 4ms/step - accuracy: 0.9928 - loss: 0.0229 - learning_rate: 0.0001\n",
      "Epoch 121/152 - 4ms/step - accuracy: 0.9931 - loss: 0.0222 - learning_rate: 0.0001\n",
      "Epoch 122/152 - 4ms/step - accuracy: 0.9924 - loss: 0.0238 - learning_rate: 0.0001\n",
      "Epoch 123/152 - 4ms/step - accuracy: 0.9924 - loss: 0.0239 - learning_rate: 0.0001\n",
      "Epoch [124/152], Val Loss: 0.0976, Val Acc: 0.9778\n",
      "Epoch 124/152 - 4ms/step - accuracy: 0.9925 - loss: 0.0232 - learning_rate: 0.0001\n",
      "Epoch 125/152 - 4ms/step - accuracy: 0.9928 - loss: 0.0226 - learning_rate: 0.0001\n",
      "Epoch 126/152 - 4ms/step - accuracy: 0.9931 - loss: 0.0223 - learning_rate: 0.0001\n",
      "Epoch 127/152 - 4ms/step - accuracy: 0.9924 - loss: 0.0241 - learning_rate: 0.0001\n",
      "Epoch [128/152], Val Loss: 0.1005, Val Acc: 0.9765\n",
      "Epoch 128/152 - 4ms/step - accuracy: 0.9927 - loss: 0.0232 - learning_rate: 0.0001\n",
      "Epoch 129/152 - 4ms/step - accuracy: 0.9929 - loss: 0.0231 - learning_rate: 0.0001\n",
      "Epoch 130/152 - 4ms/step - accuracy: 0.9928 - loss: 0.0218 - learning_rate: 0.0001\n",
      "Epoch 131/152 - 4ms/step - accuracy: 0.9933 - loss: 0.0217 - learning_rate: 0.0001\n",
      "Epoch [132/152], Val Loss: 0.0966, Val Acc: 0.9778\n",
      "Epoch 132/152 - 4ms/step - accuracy: 0.9934 - loss: 0.0217 - learning_rate: 0.0001\n",
      "Epoch 133/152 - 4ms/step - accuracy: 0.9930 - loss: 0.0218 - learning_rate: 0.0001\n",
      "Epoch 134/152 - 4ms/step - accuracy: 0.9922 - loss: 0.0235 - learning_rate: 0.0001\n",
      "Epoch 135/152 - 4ms/step - accuracy: 0.9928 - loss: 0.0226 - learning_rate: 0.0001\n",
      "Epoch [136/152], Val Loss: 0.0983, Val Acc: 0.9785\n",
      "Epoch 136/152 - 4ms/step - accuracy: 0.9932 - loss: 0.0218 - learning_rate: 0.0001\n",
      "Epoch 137/152 - 4ms/step - accuracy: 0.9933 - loss: 0.0219 - learning_rate: 0.0001\n",
      "Epoch 138/152 - 4ms/step - accuracy: 0.9932 - loss: 0.0221 - learning_rate: 0.0001\n",
      "Epoch 139/152 - 4ms/step - accuracy: 0.9933 - loss: 0.0213 - learning_rate: 0.0001\n",
      "Epoch [140/152], Val Loss: 0.1034, Val Acc: 0.9720\n",
      "Epoch 140/152 - 4ms/step - accuracy: 0.9931 - loss: 0.0221 - learning_rate: 0.0000\n",
      "Epoch 141/152 - 4ms/step - accuracy: 0.9931 - loss: 0.0211 - learning_rate: 0.0000\n",
      "Epoch 142/152 - 4ms/step - accuracy: 0.9930 - loss: 0.0217 - learning_rate: 0.0000\n",
      "Epoch 143/152 - 4ms/step - accuracy: 0.9928 - loss: 0.0226 - learning_rate: 0.0000\n",
      "Epoch [144/152], Val Loss: 0.0972, Val Acc: 0.9781\n",
      "Epoch 144/152 - 4ms/step - accuracy: 0.9932 - loss: 0.0216 - learning_rate: 0.0000\n",
      "Epoch 145/152 - 4ms/step - accuracy: 0.9933 - loss: 0.0218 - learning_rate: 0.0000\n",
      "Epoch 146/152 - 4ms/step - accuracy: 0.9931 - loss: 0.0220 - learning_rate: 0.0000\n",
      "Epoch 147/152 - 4ms/step - accuracy: 0.9932 - loss: 0.0213 - learning_rate: 0.0000\n",
      "Epoch [148/152], Val Loss: 0.0975, Val Acc: 0.9776\n",
      "Epoch 148/152 - 4ms/step - accuracy: 0.9938 - loss: 0.0214 - learning_rate: 0.0000\n",
      "Epoch 149/152 - 4ms/step - accuracy: 0.9933 - loss: 0.0224 - learning_rate: 0.0000\n",
      "Epoch 150/152 - 4ms/step - accuracy: 0.9928 - loss: 0.0220 - learning_rate: 0.0000\n",
      "Epoch 151/152 - 4ms/step - accuracy: 0.9934 - loss: 0.0210 - learning_rate: 0.0000\n",
      "Epoch [152/152], Val Loss: 0.0963, Val Acc: 0.9781\n",
      "Epoch 152/152 - 4ms/step - accuracy: 0.9929 - loss: 0.0227 - learning_rate: 0.0000\n",
      "Training complete...\n"
     ]
    }
   ],
   "source": [
    "loss_train_dict = []\n",
    "loss_val_dict = []\n",
    "acc_train_dict = []\n",
    "acc_val_dict = []\n",
    "lr_dict = []\n",
    "total_f1 = []\n",
    "\n",
    "for epoch in range(num_epochs):\n",
    "    model.train()\n",
    "    total_loss = 0\n",
    "    total_acc = 0\n",
    "    start_time = time.time()\n",
    "\n",
    "    for batch_idx, (inputs, targets) in enumerate(train_loader):\n",
    "        inputs, targets = inputs.to(device), targets.to(device)\n",
    "\n",
    "        optimizer.zero_grad()\n",
    "        outputs = model(inputs)\n",
    "        loss = criterion(outputs, targets)\n",
    "        loss.backward()\n",
    "        optimizer.step()\n",
    "\n",
    "        total_loss += loss.item()\n",
    "        total_acc += calculate_accuracy(outputs, targets).item()\n",
    "    epoch_time = (time.time() - start_time) * 1000 / len(train_loader)\n",
    "\n",
    "    train_loss = total_loss/len(train_loader)\n",
    "    train_acc = total_acc/len(train_loader)\n",
    "    # train_f1 = total_f1/len(train_loader)\n",
    "\n",
    "    # Append to dict\n",
    "    loss_train_dict.append(train_loss)\n",
    "    acc_train_dict.append(train_acc)\n",
    "    # f1_train_dict.append(train_f1)\n",
    "    # print(f\"Epoch [{epoch+1}/{num_epochs}], Loss: {train_loss:.4f}, Acc: {train_acc:.4f}\")\n",
    "    if (epoch+1) % validation_step == 0:\n",
    "        \n",
    "        model.eval()\n",
    "        val_loss = 0\n",
    "        val_acc = 0\n",
    "\n",
    "        with torch.no_grad():\n",
    "            for X_val, y_val in val_loader:\n",
    "                X_val, y_val = X_val.to(device), y_val.to(device)\n",
    "                outputs = model(X_val)\n",
    "                loss = criterion(outputs, y_val)\n",
    "                val_loss += loss.item()\n",
    "                val_acc += calculate_accuracy(outputs, y_val).item()\n",
    "\n",
    "        val_loss /= len(val_loader)\n",
    "        val_acc /= len(val_loader)\n",
    "        print(f\"Epoch [{epoch+1}/{num_epochs}], Val Loss: {val_loss:.4f}, Val Acc: {val_acc:.4f}\")\n",
    "        # Append to dict\n",
    "        loss_val_dict.append(val_loss)\n",
    "        acc_val_dict.append(val_acc)\n",
    "        scheduler.step(val_loss)\n",
    "    current_lr = optimizer.param_groups[0]['lr']\n",
    "    lr_dict.append(current_lr)\n",
    "    print(f\"Epoch {epoch+1}/{num_epochs} - \"\n",
    "              f\"{epoch_time:.0f}ms/step - \"\n",
    "              f\"accuracy: {train_acc:.4f} - \"\n",
    "              f\"loss: {train_loss:.4f} - \"\n",
    "              # f\"f1: {train_f1:.4f} - \"\n",
    "              # f\"val_accuracy: {val_acc:.4f} - \"\n",
    "              # f\"val_loss: {val_loss:.4f} - \"\n",
    "              f\"learning_rate: {current_lr:.4f}\")\n",
    "\n",
    "print(\"Training complete...\")\n",
    "    "
   ]
  },
  {
   "cell_type": "code",
   "execution_count": 32,
   "id": "d856db11",
   "metadata": {
    "execution": {
     "iopub.execute_input": "2025-02-28T12:40:19.889159Z",
     "iopub.status.busy": "2025-02-28T12:40:19.888934Z",
     "iopub.status.idle": "2025-02-28T12:40:19.894911Z",
     "shell.execute_reply": "2025-02-28T12:40:19.894226Z"
    },
    "papermill": {
     "duration": 0.028222,
     "end_time": "2025-02-28T12:40:19.896080",
     "exception": false,
     "start_time": "2025-02-28T12:40:19.867858",
     "status": "completed"
    },
    "tags": []
   },
   "outputs": [],
   "source": [
    "torch.save(model.state_dict(), 'model.pth')"
   ]
  },
  {
   "cell_type": "code",
   "execution_count": 33,
   "id": "822b89c1",
   "metadata": {
    "execution": {
     "iopub.execute_input": "2025-02-28T12:40:19.937860Z",
     "iopub.status.busy": "2025-02-28T12:40:19.937610Z",
     "iopub.status.idle": "2025-02-28T12:40:20.400032Z",
     "shell.execute_reply": "2025-02-28T12:40:20.399250Z"
    },
    "papermill": {
     "duration": 0.485009,
     "end_time": "2025-02-28T12:40:20.401596",
     "exception": false,
     "start_time": "2025-02-28T12:40:19.916587",
     "status": "completed"
    },
    "tags": []
   },
   "outputs": [
    {
     "data": {
      "image/png": "[encoded data removed]",
      "text/plain": [
       "<Figure size 1400x600 with 1 Axes>"
      ]
     },
     "metadata": {},
     "output_type": "display_data"
    }
   ],
   "source": [
    "# Prepare validation loss with NaNs\n",
    "val_losses_for_plot = []\n",
    "val_idx = 0\n",
    "\n",
    "for i in range(len(loss_val_dict)):\n",
    "        # Append (validation_step - 1) NaNs before the validation point\n",
    "        val_losses_for_plot.extend([np.nan] * (validation_step - 1))\n",
    "        val_losses_for_plot.append(loss_val_dict[val_idx])\n",
    "        val_idx += 1\n",
    "\n",
    "# Make sure both lists have the same length\n",
    "assert len(loss_train_dict) == len(val_losses_for_plot)\n",
    "\n",
    "plt.figure(figsize=(14, 6))\n",
    "plt.plot(loss_train_dict, label='Train Loss', color='blue')\n",
    "plt.plot(val_losses_for_plot, label='Validation Loss', color='orange', marker='o', linestyle='--')\n",
    "\n",
    "plt.title('Training & Validation Loss per Step')\n",
    "plt.xlabel('Step')\n",
    "plt.ylabel('Loss')\n",
    "plt.legend()\n",
    "plt.grid(True)\n",
    "plt.show()\n"
   ]
  },
  {
   "cell_type": "code",
   "execution_count": 34,
   "id": "e5057192",
   "metadata": {
    "execution": {
     "iopub.execute_input": "2025-02-28T12:40:20.446534Z",
     "iopub.status.busy": "2025-02-28T12:40:20.446302Z",
     "iopub.status.idle": "2025-02-28T12:40:20.450122Z",
     "shell.execute_reply": "2025-02-28T12:40:20.449157Z"
    },
    "papermill": {
     "duration": 0.026932,
     "end_time": "2025-02-28T12:40:20.451319",
     "exception": false,
     "start_time": "2025-02-28T12:40:20.424387",
     "status": "completed"
    },
    "tags": []
   },
   "outputs": [
    {
     "name": "stdout",
     "output_type": "stream",
     "text": [
      "152\n"
     ]
    }
   ],
   "source": [
    "print(len(loss_train_dict))"
   ]
  },
  {
   "cell_type": "code",
   "execution_count": 35,
   "id": "06b6acaf",
   "metadata": {
    "execution": {
     "iopub.execute_input": "2025-02-28T12:40:20.495477Z",
     "iopub.status.busy": "2025-02-28T12:40:20.495267Z",
     "iopub.status.idle": "2025-02-28T12:40:20.719763Z",
     "shell.execute_reply": "2025-02-28T12:40:20.719061Z"
    },
    "papermill": {
     "duration": 0.248421,
     "end_time": "2025-02-28T12:40:20.721215",
     "exception": false,
     "start_time": "2025-02-28T12:40:20.472794",
     "status": "completed"
    },
    "tags": []
   },
   "outputs": [
    {
     "data": {
      "image/png": "[encoded data removed]",
      "text/plain": [
       "<Figure size 1400x600 with 1 Axes>"
      ]
     },
     "metadata": {},
     "output_type": "display_data"
    }
   ],
   "source": [
    "# Prepare validation loss with NaNs\n",
    "val_acc_for_plot = []\n",
    "val_idx = 0\n",
    "\n",
    "for i in range(len(acc_val_dict)):\n",
    "        # Append (validation_step - 1) NaNs before the validation point\n",
    "        val_acc_for_plot.extend([np.nan] * (validation_step - 1))\n",
    "        val_acc_for_plot.append(acc_val_dict[val_idx])\n",
    "        val_idx += 1\n",
    "\n",
    "# Make sure both lists have the same length\n",
    "assert len(acc_train_dict) == len(val_acc_for_plot)\n",
    "\n",
    "plt.figure(figsize=(14, 6))\n",
    "plt.plot(acc_train_dict, label='Train Acc', color='blue')\n",
    "plt.plot(val_acc_for_plot, label='Validation Acc', color='orange', marker='o', linestyle='--')\n",
    "\n",
    "plt.title('Training & Validation Accuracy per Step')\n",
    "plt.xlabel('Step')\n",
    "plt.ylabel('Accuracy')\n",
    "plt.legend()\n",
    "plt.grid(True)\n",
    "plt.show()\n"
   ]
  },
  {
   "cell_type": "markdown",
   "id": "f44f808e",
   "metadata": {
    "papermill": {
     "duration": 0.021932,
     "end_time": "2025-02-28T12:40:20.765395",
     "exception": false,
     "start_time": "2025-02-28T12:40:20.743463",
     "status": "completed"
    },
    "tags": []
   },
   "source": [
    "## Test set inferrence and metrics score"
   ]
  },
  {
   "cell_type": "code",
   "execution_count": null,
   "id": "2e5e0487",
   "metadata": {
    "papermill": {
     "duration": 0.022139,
     "end_time": "2025-02-28T12:40:20.809853",
     "exception": false,
     "start_time": "2025-02-28T12:40:20.787714",
     "status": "completed"
    },
    "tags": []
   },
   "outputs": [],
   "source": [
    "\n"
   ]
  },
  {
   "cell_type": "code",
   "execution_count": 36,
   "id": "6f4fc68c",
   "metadata": {
    "execution": {
     "iopub.execute_input": "2025-02-28T12:40:20.855850Z",
     "iopub.status.busy": "2025-02-28T12:40:20.855586Z",
     "iopub.status.idle": "2025-02-28T12:40:21.388972Z",
     "shell.execute_reply": "2025-02-28T12:40:21.388095Z"
    },
    "papermill": {
     "duration": 0.558099,
     "end_time": "2025-02-28T12:40:21.390477",
     "exception": false,
     "start_time": "2025-02-28T12:40:20.832378",
     "status": "completed"
    },
    "tags": []
   },
   "outputs": [
    {
     "name": "stdout",
     "output_type": "stream",
     "text": [
      "Test Loss: 0.1197\n",
      "Accuracy: 0.9761\n",
      "Precision: 0.6041\n",
      "Recall: 0.6652\n",
      "F1 score: 0.6100\n"
     ]
    }
   ],
   "source": [
    "test_loss = 0\n",
    "test_acc = 0\n",
    "test_precision = 0\n",
    "test_recall = 0\n",
    "test_f1 = 0\n",
    "\n",
    "with torch.no_grad():\n",
    "    for X_test, y_test in test_loader:\n",
    "        X_test, y_test = X_test.to(device), y_test.to(device)\n",
    "        outputs = model(X_test)\n",
    "        loss = criterion(outputs, y_test)\n",
    "        test_loss += loss.item()\n",
    "        test_acc += calculate_accuracy(outputs, y_test).item()\n",
    "        test_precision += calculate_precision(outputs, y_test).item()\n",
    "        test_recall += calculate_recall(outputs, y_test).item()\n",
    "        test_f1 += calculate_f1(outputs, y_test).item()\n",
    "\n",
    "test_loss /= len(test_loader)\n",
    "test_acc /= len(test_loader)\n",
    "test_precision /= len(test_loader)\n",
    "test_recall /= len(test_loader)\n",
    "test_f1 /= len(test_loader)\n",
    "\n",
    "print(f\"Test Loss: {test_loss:.4f}\")\n",
    "print(f\"Accuracy: {test_acc:.4f}\")\n",
    "print(f\"Precision: {test_precision:.4f}\")\n",
    "print(f\"Recall: {test_recall:.4f}\")\n",
    "print(f\"F1 score: {test_f1:.4f}\")"
   ]
  },
  {
   "cell_type": "code",
   "execution_count": 37,
   "id": "a0663762",
   "metadata": {
    "execution": {
     "iopub.execute_input": "2025-02-28T12:40:21.436202Z",
     "iopub.status.busy": "2025-02-28T12:40:21.435927Z",
     "iopub.status.idle": "2025-02-28T12:40:21.439400Z",
     "shell.execute_reply": "2025-02-28T12:40:21.438490Z"
    },
    "papermill": {
     "duration": 0.027401,
     "end_time": "2025-02-28T12:40:21.440743",
     "exception": false,
     "start_time": "2025-02-28T12:40:21.413342",
     "status": "completed"
    },
    "tags": []
   },
   "outputs": [],
   "source": [
    "# import torch\n",
    "# from transformers import PatchTSMixerConfig, PatchTSMixerForTimeSeriesClassification\n",
    "\n",
    "# device = torch.device(\"cuda\" if torch.cuda.is_available() else \"cpu\")\n",
    "# print(f\"Using device: {device}\")\n",
    "\n",
    "# # Define model configuration\n",
    "# config = PatchTSMixerConfig(\n",
    "#     num_input_channels=1,  \n",
    "#     num_targets=len(label_train.unique()), \n",
    "#     context_length=187,\n",
    "#     patch_length=12,\n",
    "#     stride=12,\n",
    "#     use_cls_token=True,\n",
    "# )\n",
    "\n",
    "# # Initialize model\n",
    "# model2 = PatchTSMixerForTimeSeriesClassification(config=config).to(device)\n",
    "\n",
    "# # Convert ECG data to tensor and reshape\n",
    "# ecg_train_tensor = torch.tensor(ecg_train.values, dtype=torch.float32).unsqueeze(-1).to(device)  \n",
    "# label_train_tensor = torch.tensor(label_train.values, dtype=torch.long)  \n",
    "\n",
    "# ecg_test_tensor = torch.tensor(ecg_test.values, dtype=torch.float32).unsqueeze(-1)  \n",
    "# label_test_tensor = torch.tensor(label_test.values, dtype=torch.long)  \n",
    "\n",
    "# # Forward pass\n",
    "# outputs = model2(past_values=ecg_train_tensor)\n",
    "# logits = outputs.prediction_logits  \n",
    "\n",
    "# # Print shape of output\n",
    "# print(logits.shape)  \n"
   ]
  },
  {
   "cell_type": "code",
   "execution_count": 38,
   "id": "6f224272",
   "metadata": {
    "execution": {
     "iopub.execute_input": "2025-02-28T12:40:21.485869Z",
     "iopub.status.busy": "2025-02-28T12:40:21.485666Z",
     "iopub.status.idle": "2025-02-28T12:40:21.489503Z",
     "shell.execute_reply": "2025-02-28T12:40:21.488665Z"
    },
    "papermill": {
     "duration": 0.027658,
     "end_time": "2025-02-28T12:40:21.490722",
     "exception": false,
     "start_time": "2025-02-28T12:40:21.463064",
     "status": "completed"
    },
    "tags": []
   },
   "outputs": [
    {
     "name": "stdout",
     "output_type": "stream",
     "text": [
      "{0: 'Normal', 1: 'Artial Premature', 2: 'Premature ventricular contraction', 3: 'Fusion of ventricular and normal', 4: 'Fusion of paced and normal'}\n"
     ]
    }
   ],
   "source": [
    "print(labels)"
   ]
  },
  {
   "cell_type": "code",
   "execution_count": null,
   "id": "c9b5da4e",
   "metadata": {
    "papermill": {
     "duration": 0.022192,
     "end_time": "2025-02-28T12:40:21.536113",
     "exception": false,
     "start_time": "2025-02-28T12:40:21.513921",
     "status": "completed"
    },
    "tags": []
   },
   "outputs": [],
   "source": []
  }
 ],
 "metadata": {
  "kaggle": {
   "accelerator": "nvidiaTeslaT4",
   "dataSources": [
    {
     "datasetId": 29414,
     "sourceId": 37484,
     "sourceType": "datasetVersion"
    }
   ],
   "dockerImageVersionId": 30919,
   "isGpuEnabled": true,
   "isInternetEnabled": true,
   "language": "python",
   "sourceType": "notebook"
  },
  "kernelspec": {
   "display_name": "Python 3",
   "language": "python",
   "name": "python3"
  },
  "language_info": {
   "codemirror_mode": {
    "name": "ipython",
    "version": 3
   },
   "file_extension": ".py",
   "mimetype": "text/x-python",
   "name": "python",
   "nbconvert_exporter": "python",
   "pygments_lexer": "ipython3",
   "version": "3.10.12"
  },
  "papermill": {
   "default_parameters": {},
   "duration": 856.100354,
   "end_time": "2025-02-28T12:40:23.180337",
   "environment_variables": {},
   "exception": null,
   "input_path": "__notebook__.ipynb",
   "output_path": "__notebook__.ipynb",
   "parameters": {},
   "start_time": "2025-02-28T12:26:07.079983",
   "version": "2.6.0"
  }
 },
 "nbformat": 4,
 "nbformat_minor": 5
}
